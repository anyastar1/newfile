{
  "nbformat": 4,
  "nbformat_minor": 0,
  "metadata": {
    "colab": {
      "provenance": [],
      "include_colab_link": true
    },
    "kernelspec": {
      "name": "python3",
      "display_name": "Python 3"
    },
    "language_info": {
      "name": "python"
    }
  },
  "cells": [
    {
      "cell_type": "markdown",
      "metadata": {
        "id": "view-in-github",
        "colab_type": "text"
      },
      "source": [
        "<a href=\"https://colab.research.google.com/github/anyastar1/newfile/blob/%D0%BB%D0%B0%D0%B1%D0%BE%D1%80%D0%B0%D1%82%D0%BE%D1%80%D0%BD%D0%B0%D1%8F-3/%D0%9B%D0%B0%D0%B1%D0%BE%D1%80%D0%B0%D1%82%D0%BE%D1%80%D0%BD%D0%B0%D1%8F_3_%D0%A5%D0%BE%D0%BB%D1%8F%D0%B2%D0%BA%D0%BE_%D0%91%D0%B2%D1%822403.ipynb\" target=\"_parent\"><img src=\"https://colab.research.google.com/assets/colab-badge.svg\" alt=\"Open In Colab\"/></a>"
      ]
    },
    {
      "cell_type": "code",
      "execution_count": null,
      "metadata": {
        "colab": {
          "base_uri": "https://localhost:8080/"
        },
        "id": "_zwwMgmoke64",
        "outputId": "b158e8b9-b497-45f2-b46d-06897cb70d98"
      },
      "outputs": [
        {
          "output_type": "stream",
          "name": "stdout",
          "text": [
            "Введите full  для полного чтения или line для построчногоfull\n",
            "4 hostel with cockroach\n",
            "my name is anya\n",
            "bomba scramble with tomatoes \n"
          ]
        }
      ],
      "source": [
        "# 1 задание вывод текста всего файла  и построчного\n",
        "def f(x,y):\n",
        "  if y=='full':\n",
        "    with open(x, 'r') as file:\n",
        "      print(file.read())\n",
        "  if y=='line':\n",
        "    with open(x, 'r') as file:\n",
        "      for line in file:\n",
        "          print(line)\n",
        "y=input('Введите full  для полного чтения или line для построчного')\n",
        "f('example.txt',y)"
      ]
    },
    {
      "cell_type": "code",
      "source": [
        "#2 задание занесение данных в\n",
        "d=input(\"Введите текст:\")\n",
        "with open('user_input.txt','a') as file:\n",
        "    file.write(d+'/n')\n"
      ],
      "metadata": {
        "id": "IKqxykqTkx_N"
      },
      "execution_count": null,
      "outputs": []
    },
    {
      "cell_type": "code",
      "source": [
        "#3 задание проверка файла на существование\n",
        "try:\n",
        "    def f(x,y):\n",
        "\n",
        "       with open(x, 'r') as file:\n",
        "        if y=='full':\n",
        "            print(file.read())\n",
        "        if y=='line':\n",
        "            for line in file:\n",
        "                print(line)\n",
        "    y=input('Введите full  для полного чтения или line для построчного')\n",
        "    f('examlle.txt',y)\n",
        "except FileNotFoundError:\n",
        "    print('Такого файла нет')"
      ],
      "metadata": {
        "colab": {
          "base_uri": "https://localhost:8080/"
        },
        "id": "1KoTRyGWlNa9",
        "outputId": "3a7d3a6c-0af6-4d76-cb31-2246dc08b438"
      },
      "execution_count": null,
      "outputs": [
        {
          "output_type": "stream",
          "name": "stdout",
          "text": [
            "Введите full  для полного чтения или line для построчногоline\n",
            "Такого файла нет\n"
          ]
        }
      ]
    }
  ]
}